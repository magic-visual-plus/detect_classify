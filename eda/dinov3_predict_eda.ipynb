{
 "cells": [
  {
   "cell_type": "markdown",
   "id": "2c8be358",
   "metadata": {},
   "source": [
    "# 分类模型预测结果分析"
   ]
  },
  {
   "cell_type": "markdown",
   "id": "2f9ce5a0-030c-4e9a-a530-44a09e2ee7cb",
   "metadata": {},
   "source": [
    "## 验证数据集加载"
   ]
  },
  {
   "cell_type": "code",
   "execution_count": 1,
   "id": "d83dfe47-d788-44cf-bd57-862bfda942f5",
   "metadata": {},
   "outputs": [],
   "source": [
    "import sys\n",
    "import json\n",
    "import os\n",
    "sys.path.append(\"..\")\n",
    "import utils\n",
    "import utils.dataloader\n",
    "import utils.transforms"
   ]
  },
  {
   "cell_type": "code",
   "execution_count": 2,
   "id": "cc206868",
   "metadata": {},
   "outputs": [],
   "source": [
    "val_path =  \"/root/autodl-tmp/seat_dataset/chengdu_valid/\"\n",
    "val_ann =  \"/root/autodl-tmp/seat_task/jobs/job_8/output/_annclassfication.valid.coco.json\""
   ]
  },
  {
   "cell_type": "code",
   "execution_count": 3,
   "id": "d9ff5aa1",
   "metadata": {},
   "outputs": [
    {
     "name": "stdout",
     "output_type": "stream",
     "text": [
      "已保存过滤后的标注文件为: _val_annotations_predict_only.json\n"
     ]
    }
   ],
   "source": [
    "with open(val_ann, 'r') as f:\n",
    "    val_annotations = json.load(f)\n",
    "\n",
    "val_annotations['annotations'] = [ ann for ann in val_annotations['annotations'] if ann['source'] == 'predict' ]\n",
    "\n",
    "# 保存为指定的名称\n",
    "with open('_val_annotations_predict_only.json', 'w') as f:\n",
    "    json.dump(val_annotations, f, indent=2)\n",
    "\n",
    "print(\"已保存过滤后的标注文件为: _val_annotations_predict_only.json\")"
   ]
  },
  {
   "cell_type": "code",
   "execution_count": 4,
   "id": "02d9984e-94ee-4c56-8589-37b7a75a3dd1",
   "metadata": {},
   "outputs": [],
   "source": [
    "val_ann = \"_val_annotations_predict_only.json\""
   ]
  },
  {
   "cell_type": "code",
   "execution_count": 5,
   "id": "d3a8c66f-75d2-4be8-895f-44f21d754ceb",
   "metadata": {},
   "outputs": [
    {
     "name": "stdout",
     "output_type": "stream",
     "text": [
      "loading annotations into memory...\n",
      "Done (t=0.01s)\n",
      "creating index...\n",
      "index created!\n"
     ]
    },
    {
     "name": "stderr",
     "output_type": "stream",
     "text": [
      "/root/miniconda3/lib/python3.12/site-packages/torchvision/transforms/v2/_deprecated.py:42: UserWarning: The transform `ToTensor()` is deprecated and will be removed in a future release. Instead, please use `v2.Compose([v2.ToImage(), v2.ToDtype(torch.float32, scale=True)])`.Output is equivalent up to float precision.\n",
      "  warnings.warn(\n"
     ]
    }
   ],
   "source": [
    "dataload, dataset = utils.dataloader.create_coco_dataloader(val_path, val_ann, utils.transforms.get_default_transform(is_train=False), min_bbox_area=0, crop_scale_factor=1.5, is_train=False)"
   ]
  },
  {
   "cell_type": "markdown",
   "id": "6993e0ba",
   "metadata": {},
   "source": [
    "## 2. 加载分类模型"
   ]
  },
  {
   "cell_type": "code",
   "execution_count": 6,
   "id": "56a48d1b",
   "metadata": {},
   "outputs": [],
   "source": [
    "from trainer import get_model"
   ]
  },
  {
   "cell_type": "code",
   "execution_count": 7,
   "id": "b84c635d-6cab-4666-bb91-4474cf7c5607",
   "metadata": {},
   "outputs": [
    {
     "name": "stdout",
     "output_type": "stream",
     "text": [
      "使用设备: cuda\n",
      "backbone name: dinov3_vitb16\n",
      "backbone weights: None\n",
      "Successfully loaded model weights from: /root/autodl-tmp/seat_task/jobs/job_8/output/lightning_logs/version_0/checkpoints/best_loss_model_epoch=33_val_loss=0.6444.ckpt\n"
     ]
    },
    {
     "data": {
      "text/plain": [
       "DinoV3Classifier(\n",
       "  (backbone): DinoVisionTransformer(\n",
       "    (patch_embed): PatchEmbed(\n",
       "      (proj): Conv2d(3, 768, kernel_size=(16, 16), stride=(16, 16))\n",
       "      (norm): Identity()\n",
       "    )\n",
       "    (rope_embed): RopePositionEmbedding()\n",
       "    (blocks): ModuleList(\n",
       "      (0-11): 12 x SelfAttentionBlock(\n",
       "        (norm1): LayerNorm((768,), eps=1e-05, elementwise_affine=True)\n",
       "        (attn): SelfAttention(\n",
       "          (qkv): LinearKMaskedBias(in_features=768, out_features=2304, bias=True)\n",
       "          (attn_drop): Dropout(p=0.0, inplace=False)\n",
       "          (proj): Linear(in_features=768, out_features=768, bias=True)\n",
       "          (proj_drop): Dropout(p=0.0, inplace=False)\n",
       "        )\n",
       "        (ls1): LayerScale()\n",
       "        (norm2): LayerNorm((768,), eps=1e-05, elementwise_affine=True)\n",
       "        (mlp): Mlp(\n",
       "          (fc1): Linear(in_features=768, out_features=3072, bias=True)\n",
       "          (act): GELU(approximate='none')\n",
       "          (fc2): Linear(in_features=3072, out_features=768, bias=True)\n",
       "          (drop): Dropout(p=0.0, inplace=False)\n",
       "        )\n",
       "        (ls2): LayerScale()\n",
       "      )\n",
       "    )\n",
       "    (norm): LayerNorm((768,), eps=1e-05, elementwise_affine=True)\n",
       "    (head): Identity()\n",
       "  )\n",
       "  (head): Sequential(\n",
       "    (0): Dropout(p=0.2, inplace=False)\n",
       "    (1): Linear(in_features=1536, out_features=1, bias=True)\n",
       "  )\n",
       ")"
      ]
     },
     "execution_count": 7,
     "metadata": {},
     "output_type": "execute_result"
    }
   ],
   "source": [
    "import torch\n",
    "\n",
    "# 检查模型文件是否存在\n",
    "model_path = \"/root/autodl-tmp/seat_task/jobs/job_8/output/lightning_logs/version_0/checkpoints/best_loss_model_epoch=33_val_loss=0.6444.ckpt\"\n",
    "\n",
    "cls_config = {\n",
    "    'check_point_path': model_path,\n",
    "    \"backbone_name\": 'dinov3_vitb16',\n",
    "    'REPO_DIR': '/root/dinov3',\n",
    "    'num_classes': 2\n",
    "}\n",
    "cls_config['class_names'] = ['缺陷', '背景']\n",
    "\n",
    "# 设置设备\n",
    "device = torch.device('cuda' if torch.cuda.is_available() else 'cpu')\n",
    "print(f\"使用设备: {device}\")\n",
    "\n",
    "model = get_model(cls_config)\n",
    "model.eval()\n",
    "model.to(device)"
   ]
  },
  {
   "cell_type": "code",
   "execution_count": null,
   "id": "8a96d007",
   "metadata": {},
   "outputs": [],
   "source": [
    "all_pred = []\n",
    "all_label = []\n",
    "for img, label, info in dataload:\n",
    "    # 将输入数据移动到与模型相同的设备上\n",
    "    img = img.to(device)\n",
    "    pred = model(img)\n",
    "    pred = torch.sigmoid(pred)\n",
    "    all_pred.extend(pred.detach().cpu().numpy())\n",
    "    all_label.extend(label.cpu().numpy())"
   ]
  },
  {
   "cell_type": "code",
   "execution_count": null,
   "id": "9180cf46",
   "metadata": {},
   "outputs": [],
   "source": [
    "import matplotlib.pyplot as plt\n",
    "import numpy as np\n",
    "from scipy import stats\n",
    "from scipy.ndimage import gaussian_filter1d\n",
    "\n",
    "plt.rcParams['font.sans-serif'] = [\n",
    "    'Noto Sans CJK SC',\n",
    "    'Noto Serif CJK SC',\n",
    "    'WenQuanYi Zen Hei',\n",
    "    'WenQuanYi Micro Hei',\n",
    "    'SimHei', 'SimSun', 'FangSong'\n",
    "]\n",
    "plt.rcParams['axes.unicode_minus'] = False \n",
    "\n",
    "# 将预测结果转换为numpy数组\n",
    "all_pred = np.array(all_pred).flatten()\n",
    "all_label = np.array(all_label)\n",
    "\n",
    "# 分离两个类别的预测概率\n",
    "class_0_pred = all_pred[all_label == 0]  # 缺陷类别的预测概率\n",
    "class_1_pred = all_pred[all_label == 1]  # 背景类别的预测概率\n",
    "\n",
    "# 创建子图\n",
    "fig, (ax1, ax2) = plt.subplots(1, 2, figsize=(15, 6))\n",
    "\n",
    "# 第一个子图：概率密度分布折线图\n",
    "if len(class_0_pred) > 0 and len(class_1_pred) > 0:\n",
    "    # 计算直方图数据用于绘制折线图\n",
    "    bins = np.linspace(0, 1, 51)\n",
    "    hist_0, bin_edges_0 = np.histogram(class_0_pred, bins=bins, density=True)\n",
    "    hist_1, bin_edges_1 = np.histogram(class_1_pred, bins=bins, density=True)\n",
    "    \n",
    "    # 计算bin中心点\n",
    "    bin_centers = (bin_edges_0[:-1] + bin_edges_0[1:]) / 2\n",
    "    \n",
    "    # 应用高斯平滑\n",
    "    sigma = 1.0  # 平滑参数，可以调整\n",
    "    hist_0_smooth = gaussian_filter1d(hist_0, sigma=sigma)\n",
    "    hist_1_smooth = gaussian_filter1d(hist_1, sigma=sigma)\n",
    "    \n",
    "    # 绘制平滑后的折线图\n",
    "    ax1.plot(bin_centers, hist_0_smooth, 'r-', linewidth=2.5, label='缺陷类别', alpha=0.8)\n",
    "    ax1.plot(bin_centers, hist_1_smooth, 'b-', linewidth=2.5, label='背景类别', alpha=0.8)\n",
    "    \n",
    "    ax1.set_xlabel('预测概率')\n",
    "    ax1.set_ylabel('概率密度')\n",
    "    ax1.set_title('两类预测概率密度分布')\n",
    "    ax1.legend()\n",
    "    ax1.grid(True, alpha=0.3)\n",
    "    ax1.set_xlim(0, 1)\n",
    "    \n",
    "    # 添加统计信息\n",
    "    ax1.text(0.05, 0.9, f'缺陷类别样本数: {len(class_0_pred)}', \n",
    "             transform=ax1.transAxes, fontsize=10, bbox=dict(boxstyle=\"round,pad=0.3\", facecolor=\"lightcoral\", alpha=0.8))\n",
    "    ax1.text(0.05, 0.8, f'背景类别样本数: {len(class_1_pred)}', \n",
    "             transform=ax1.transAxes, fontsize=10, bbox=dict(boxstyle=\"round,pad=0.3\", facecolor=\"lightblue\", alpha=0.8))\n",
    "\n",
    "# 第二个子图：数量分布折线图\n",
    "if len(class_0_pred) > 0 and len(class_1_pred) > 0:\n",
    "    # 计算直方图数据用于绘制折线图\n",
    "    bins = np.linspace(0, 1, 51)\n",
    "    hist_0, bin_edges_0 = np.histogram(class_0_pred, bins=bins, density=False)\n",
    "    hist_1, bin_edges_1 = np.histogram(class_1_pred, bins=bins, density=False)\n",
    "    \n",
    "    # 计算bin中心点\n",
    "    bin_centers = (bin_edges_0[:-1] + bin_edges_0[1:]) / 2\n",
    "    \n",
    "    # 应用高斯平滑\n",
    "    sigma = 1.0  # 平滑参数，可以调整\n",
    "    hist_0_smooth = gaussian_filter1d(hist_0, sigma=sigma)\n",
    "    hist_1_smooth = gaussian_filter1d(hist_1, sigma=sigma)\n",
    "    \n",
    "    # 绘制平滑后的折线图\n",
    "    ax2.plot(bin_centers, hist_0_smooth, 'r-', linewidth=2.5, label='缺陷类别', alpha=0.8)\n",
    "    ax2.plot(bin_centers, hist_1_smooth, 'b-', linewidth=2.5, label='背景类别', alpha=0.8)\n",
    "    \n",
    "    ax2.set_xlabel('预测概率')\n",
    "    ax2.set_ylabel('样本数量')\n",
    "    ax2.set_title('两类预测概率数量分布')\n",
    "    ax2.legend()\n",
    "    ax2.grid(True, alpha=0.3)\n",
    "    ax2.set_xlim(0, 1)\n",
    "    \n",
    "    # 添加统计信息\n",
    "    ax2.text(0.05, 0.9, f'缺陷类别总样本数: {len(class_0_pred)}', \n",
    "             transform=ax2.transAxes, fontsize=10, bbox=dict(boxstyle=\"round,pad=0.3\", facecolor=\"lightcoral\", alpha=0.8))\n",
    "    ax2.text(0.05, 0.8, f'背景类别总样本数: {len(class_1_pred)}', \n",
    "             transform=ax2.transAxes, fontsize=10, bbox=dict(boxstyle=\"round,pad=0.3\", facecolor=\"lightblue\", alpha=0.8))\n",
    "\n",
    "plt.tight_layout()\n",
    "plt.show()\n",
    "\n",
    "# 打印统计信息\n",
    "print(f\"缺陷类别样本数: {len(class_0_pred)}\")\n",
    "print(f\"背景类别样本数: {len(class_1_pred)}\")\n",
    "if len(class_0_pred) > 0:\n",
    "    print(f\"缺陷类别预测概率 - 均值: {np.mean(class_0_pred):.4f}, 标准差: {np.std(class_0_pred):.4f}\")\n",
    "if len(class_1_pred) > 0:\n",
    "    print(f\"背景类别预测概率 - 均值: {np.mean(class_1_pred):.4f}, 标准差: {np.std(class_1_pred):.4f}\")\n",
    "\n",
    "# 打印关键阈值信息\n",
    "if len(class_0_pred) > 0 and len(class_1_pred) > 0:\n",
    "    print(f\"\\n关键阈值分析:\")\n",
    "    for threshold in [0.1, 0.3, 0.5, 0.7, 0.9]:\n",
    "        count_0 = np.sum(class_0_pred >= threshold)\n",
    "        count_1 = np.sum(class_1_pred >= threshold)\n",
    "        total_remaining = count_0 + count_1\n",
    "        defect_ratio = count_0 / total_remaining if total_remaining > 0 else 0\n",
    "        print(f\"阈值 {threshold}: 剩余缺陷={count_0}, 剩余背景={count_1}, 缺陷占剩余比例={defect_ratio:.3f}\")\n"
   ]
  },
  {
   "cell_type": "code",
   "execution_count": null,
   "id": "f83914c9",
   "metadata": {},
   "outputs": [],
   "source": [
    "# 计算PR曲线的函数\n",
    "from sklearn.metrics import precision_recall_curve, average_precision_score\n",
    "import matplotlib.pyplot as plt\n",
    "import numpy as np\n",
    "\n",
    "def plot_pr_curve(y_true, y_scores, positive_label=1, title_suffix=\"\"):\n",
    "    \"\"\"\n",
    "    绘制PR曲线\n",
    "    \n",
    "    Args:\n",
    "        y_true: 真实标签\n",
    "        y_scores: 预测概率分数\n",
    "        positive_label: 正例标签 (0表示缺陷为正例，1表示背景为正例)\n",
    "        title_suffix: 标题后缀\n",
    "    \"\"\"\n",
    "    # 计算PR曲线\n",
    "    precision, recall, thresholds = precision_recall_curve(y_true, y_scores, pos_label=positive_label)\n",
    "    average_precision = average_precision_score(y_true, y_scores, pos_label=positive_label)\n",
    "    \n",
    "    # 绘制PR曲线\n",
    "    plt.figure(figsize=(10, 6))\n",
    "    plt.plot(recall, precision, 'b-', linewidth=2, label=f'PR曲线 (AP = {average_precision:.3f})')\n",
    "    plt.xlabel('召回率 (Recall)')\n",
    "    plt.ylabel('精确率 (Precision)')\n",
    "    plt.title(f'精确率-召回率曲线{title_suffix}')\n",
    "    plt.legend()\n",
    "    plt.grid(True, alpha=0.3)\n",
    "    plt.xlim([0, 1])\n",
    "    plt.ylim([0, 1])\n",
    "    \n",
    "    # 添加一些关键点的标注\n",
    "    # 找到最佳F1分数对应的点\n",
    "    f1_scores = 2 * (precision * recall) / (precision + recall + 1e-8)\n",
    "    best_f1_idx = np.argmax(f1_scores)\n",
    "    best_f1 = f1_scores[best_f1_idx]\n",
    "    best_precision = precision[best_f1_idx]\n",
    "    best_recall = recall[best_f1_idx]\n",
    "    \n",
    "    plt.plot(best_recall, best_precision, 'ro', markersize=8, label=f'最佳F1点 (F1={best_f1:.3f})')\n",
    "    plt.legend()\n",
    "    \n",
    "    plt.tight_layout()\n",
    "    plt.show()\n",
    "    \n",
    "    # 打印关键指标\n",
    "    print(f\"平均精确率 (AP): {average_precision:.4f}\")\n",
    "    print(f\"最佳F1分数: {best_f1:.4f}\")\n",
    "    print(f\"最佳F1对应的精确率: {best_precision:.4f}\")\n",
    "    print(f\"最佳F1对应的召回率: {best_recall:.4f}\")\n",
    "    \n",
    "    # 计算不同阈值下的性能指标\n",
    "    print(\"\\n不同阈值下的性能指标:\")\n",
    "    print(\"阈值\\t精确率\\t召回率\\tF1分数\")\n",
    "    for i in range(0, len(thresholds), max(1, len(thresholds)//10)):  # 显示10个点\n",
    "        thresh = thresholds[i]\n",
    "        prec = precision[i]\n",
    "        rec = recall[i]\n",
    "        f1 = 2 * (prec * rec) / (prec + rec + 1e-8)\n",
    "        print(f\"{thresh:.3f}\\t{prec:.3f}\\t{rec:.3f}\\t{f1:.3f}\")\n",
    "    \n",
    "    return precision, recall, thresholds, average_precision, best_f1\n",
    "\n",
    "# 绘制缺陷作为正例的PR曲线\n",
    "print(\"=\" * 50)\n",
    "print(\"缺陷作为正例的PR曲线分析\")\n",
    "print(\"=\" * 50)\n",
    "plot_pr_curve(all_label, all_pred, positive_label=0, title_suffix=\" (缺陷为正例)\")\n",
    "\n",
    "# 绘制背景作为正例的PR曲线\n",
    "print(\"\\n\" + \"=\" * 50)\n",
    "print(\"背景作为正例的PR曲线分析\")\n",
    "print(\"=\" * 50)\n",
    "plot_pr_curve(all_label, all_pred, positive_label=1, title_suffix=\" (背景为正例)\")\n"
   ]
  },
  {
   "cell_type": "code",
   "execution_count": null,
   "id": "a35d37da",
   "metadata": {},
   "outputs": [],
   "source": []
  }
 ],
 "metadata": {
  "kernelspec": {
   "display_name": "base",
   "language": "python",
   "name": "python3"
  },
  "language_info": {
   "codemirror_mode": {
    "name": "ipython",
    "version": 3
   },
   "file_extension": ".py",
   "mimetype": "text/x-python",
   "name": "python",
   "nbconvert_exporter": "python",
   "pygments_lexer": "ipython3",
   "version": "3.12.3"
  }
 },
 "nbformat": 4,
 "nbformat_minor": 5
}

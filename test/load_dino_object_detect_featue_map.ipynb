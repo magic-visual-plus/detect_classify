{
 "cells": [
  {
   "cell_type": "markdown",
   "id": "d34ba821",
   "metadata": {},
   "source": [
    "#  加载DINO基础检测模型特征图"
   ]
  },
  {
   "cell_type": "code",
   "execution_count": 1,
   "id": "3bcbc82b",
   "metadata": {},
   "outputs": [],
   "source": [
    "import os\n",
    "import numpy as np\n",
    "import torch\n",
    "import cv2\n",
    "from hq_det.models.dino import hq_dino"
   ]
  },
  {
   "cell_type": "code",
   "execution_count": 2,
   "id": "cee9d1c3",
   "metadata": {},
   "outputs": [],
   "source": [
    "model_path = \"/root/autodl-tmp/seat_model/ckpt.pth.dino.hunhe\"\n",
    "imgs_dir = \"/root/autodl-tmp/seat_dataset/chengdu_resplit-21/valid\"\n",
    "imgs = [os.path.join(imgs_dir, img) for img in os.listdir(imgs_dir)]"
   ]
  },
  {
   "cell_type": "code",
   "execution_count": 3,
   "id": "7ac2109d",
   "metadata": {},
   "outputs": [
    {
     "name": "stdout",
     "output_type": "stream",
     "text": [
      "627 627\n"
     ]
    }
   ],
   "source": [
    "model = hq_dino.HQDINO(model=model_path)"
   ]
  },
  {
   "cell_type": "code",
   "execution_count": null,
   "id": "f71a9101",
   "metadata": {},
   "outputs": [],
   "source": [
    "def create_batch_data(img_path, model, max_size=1536):\n",
    "    img = cv2.imread(img_path)\n",
    "    img = cv2.cvtColor(img, cv2.COLOR_RGB2BGR)\n",
    "    img_scale = 1.0\n",
    "    max_hw = max(img.shape[0], img.shape[1])\n",
    "    if max_hw > max_size:\n",
    "        rate = max_size / max_hw\n",
    "        img = cv2.resize(img, (int(img.shape[1] * rate), int(img.shape[0] * rate)))\n",
    "        img_scale = rate\n",
    "    batch_data = model.imgs_to_batch([img])\n",
    "    return batch_data, img_scale\n",
    "\n",
    "def get_dino_object_detect_feature_map(img_path, model, max_size=1536):\n",
    "    batch_data, img_scale = create_batch_data(img_path, model, max_size)\n",
    "    batch_data.update(model.model.data_preprocessor(batch_data, model.model.training))\n",
    "    feats = model.model.extract_feat(batch_data['inputs'])\n",
    "    return feats\n",
    "\n"
   ]
  },
  {
   "cell_type": "code",
   "execution_count": 5,
   "id": "418fc686",
   "metadata": {},
   "outputs": [],
   "source": [
    "img_path = imgs[0]"
   ]
  },
  {
   "cell_type": "code",
   "execution_count": 6,
   "id": "7b7653cd",
   "metadata": {},
   "outputs": [],
   "source": [
    "img_feats = get_dino_object_detect_feature_map(img_path, model)"
   ]
  },
  {
   "cell_type": "code",
   "execution_count": 7,
   "id": "54381993",
   "metadata": {},
   "outputs": [
    {
     "name": "stdout",
     "output_type": "stream",
     "text": [
      "torch.Size([1, 256, 192, 192])\n",
      "torch.Size([1, 256, 96, 96])\n",
      "torch.Size([1, 256, 48, 48])\n",
      "torch.Size([1, 256, 24, 24])\n"
     ]
    }
   ],
   "source": [
    "for feat in img_feats:\n",
    "    print(feat.shape)"
   ]
  },
  {
   "cell_type": "code",
   "execution_count": 11,
   "id": "bfabdb35",
   "metadata": {},
   "outputs": [
    {
     "name": "stdout",
     "output_type": "stream",
     "text": [
      "特征图已保存为 img_feats.npz（float16）\n"
     ]
    }
   ],
   "source": [
    "import numpy as np\n",
    "\n",
    "def save_feats_to_npz(img_feats, filename=\"img_feats.npz\"):\n",
    "    \"\"\"\n",
    "    将特征图列表保存为float16的npz文件\n",
    "    Args:\n",
    "        img_feats: 特征图列表，可以是Tensor或numpy数组。\n",
    "        filename: 保存的文件名，默认为\"img_feats.npz\"。\n",
    "    \"\"\"\n",
    "    feat_arrays = [\n",
    "        (feat.detach().cpu().numpy().astype(np.float16) if hasattr(feat, 'detach') else\n",
    "         (feat.cpu().numpy().astype(np.float16) if hasattr(feat, 'cpu') else np.array(feat, dtype=np.float16)))\n",
    "        for feat in img_feats\n",
    "    ]\n",
    "    np.savez(filename, *feat_arrays)\n",
    "    print(f\"特征图已保存为 {filename}（float16）\")\n",
    "\n",
    "# 调用示例\n",
    "save_feats_to_npz(img_feats, \"img_feats.npz\")\n"
   ]
  },
  {
   "cell_type": "code",
   "execution_count": null,
   "id": "49c88e72",
   "metadata": {},
   "outputs": [],
   "source": []
  }
 ],
 "metadata": {
  "kernelspec": {
   "display_name": "base",
   "language": "python",
   "name": "python3"
  },
  "language_info": {
   "codemirror_mode": {
    "name": "ipython",
    "version": 3
   },
   "file_extension": ".py",
   "mimetype": "text/x-python",
   "name": "python",
   "nbconvert_exporter": "python",
   "pygments_lexer": "ipython3",
   "version": "3.12.3"
  }
 },
 "nbformat": 4,
 "nbformat_minor": 5
}

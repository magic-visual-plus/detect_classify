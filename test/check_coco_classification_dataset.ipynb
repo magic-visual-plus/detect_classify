{
 "cells": [
  {
   "cell_type": "markdown",
   "id": "d0a9e30f",
   "metadata": {},
   "source": [
    "# coco分类数据集代码模块check"
   ]
  },
  {
   "cell_type": "code",
   "execution_count": 1,
   "id": "c382a786",
   "metadata": {},
   "outputs": [],
   "source": [
    "import sys\n",
    "import os\n",
    "sys.path.append(os.path.dirname(\"../\"))\n",
    "import matplotlib.pyplot as plt\n",
    "\n",
    "from utils.dataset import COCOClassificationDataset\n",
    "\n",
    "plt.rcParams['font.sans-serif'] = ['SimHei']\n",
    "plt.rcParams['axes.unicode_minus'] = False  "
   ]
  },
  {
   "cell_type": "markdown",
   "id": "8c09c725",
   "metadata": {},
   "source": [
    "## 1. 加载数据集"
   ]
  },
  {
   "cell_type": "code",
   "execution_count": null,
   "id": "c34a42e5",
   "metadata": {},
   "outputs": [
    {
     "name": "stdout",
     "output_type": "stream",
     "text": [
      "loading annotations into memory...\n",
      "Done (t=0.02s)\n",
      "creating index...\n",
      "index created!\n"
     ]
    }
   ],
   "source": [
    "dataset = COCOClassificationDataset(\n",
    "    root_dir=\"/root/autodl-tmp/seat_dataset/chengdu_customer\",\n",
    "    ann_file=\"/root/autodl-tmp/seat_dataset/chengdu_customer/_classification.coco.json\",\n",
    "    # target_categories=['褶皱（重度）', \"背景\"],\n",
    "    min_bbox_area=5.0,\n",
    ")"
   ]
  },
  {
   "cell_type": "markdown",
   "id": "c40a5a63",
   "metadata": {},
   "source": [
    "## 2. 基本统计"
   ]
  },
  {
   "cell_type": "code",
   "execution_count": 3,
   "id": "4d257447",
   "metadata": {},
   "outputs": [
    {
     "name": "stdout",
     "output_type": "stream",
     "text": [
      "每个类别的样本数量统计：\n",
      "  类别: 褶皱（重度），数量: 123\n",
      "  类别: 背景，数量: 170\n"
     ]
    }
   ],
   "source": [
    "from collections import Counter\n",
    "\n",
    "# 统计每个类别的数量\n",
    "label_counter = Counter()\n",
    "for ann in dataset.annotations:\n",
    "    cat_id = ann['category_id']\n",
    "    if cat_id in dataset.cat_ids:\n",
    "        label = dataset.cat_id_to_label[cat_id]\n",
    "        label_counter[label] += 1\n",
    "\n",
    "print(\"每个类别的样本数量统计：\")\n",
    "for label in range(len(dataset.cat_ids)):\n",
    "    name = dataset.label_to_cat_name[label]\n",
    "    count = label_counter.get(label, 0)\n",
    "    print(f\"  类别: {name}，数量: {count}\")\n"
   ]
  },
  {
   "cell_type": "code",
   "execution_count": 4,
   "id": "324aa5c0",
   "metadata": {},
   "outputs": [
    {
     "data": {
      "application/vnd.jupyter.widget-view+json": {
       "model_id": "2a8a37ea55aa4a669c1d51ce6151cee1",
       "version_major": 2,
       "version_minor": 0
      },
      "text/plain": [
       "HTML(value='<h3>COCO 分类数据集样本浏览</h3>')"
      ]
     },
     "metadata": {},
     "output_type": "display_data"
    },
    {
     "data": {
      "application/vnd.jupyter.widget-view+json": {
       "model_id": "2637d764908b438d95125a88c8a92974",
       "version_major": 2,
       "version_minor": 0
      },
      "text/plain": [
       "HBox(children=(Textarea(value='数据集样本数量: 293\\n类别数量: 2\\n样本 0:\\n图片来源: predict\\n类别id: 1\\n类别名称: 背景\\n图片尺寸: (122, 122…"
      ]
     },
     "metadata": {},
     "output_type": "display_data"
    },
    {
     "data": {
      "application/vnd.jupyter.widget-view+json": {
       "model_id": "000c623a48be4e5bb19985295f07201e",
       "version_major": 2,
       "version_minor": 0
      },
      "text/plain": [
       "HBox(children=(Button(description='Previous', style=ButtonStyle()), Button(description='Next', style=ButtonSty…"
      ]
     },
     "metadata": {},
     "output_type": "display_data"
    }
   ],
   "source": [
    "import ipywidgets as widgets\n",
    "from IPython.display import display, clear_output\n",
    "import numpy as np\n",
    "from PIL import Image, ImageDraw\n",
    "\n",
    "num_show = len(dataset)\n",
    "sample_indices = list(range(min(num_show, len(dataset))))\n",
    "\n",
    "dataset_info = [\n",
    "    f\"数据集样本数量: {len(dataset)}\",\n",
    "    f\"类别数量: {dataset.get_num_classes()}\",\n",
    "    # f\"类别名称: {dataset.get_class_names()}\"\n",
    "]\n",
    "\n",
    "def get_sample_info(idx):\n",
    "    i = sample_indices[idx]\n",
    "    img, label, info = dataset[i]\n",
    "    if not isinstance(img, Image.Image):\n",
    "        img = Image.fromarray(np.array(img))\n",
    "    img_size = img.size if hasattr(img, 'size') else (img.shape[1], img.shape[0]) if hasattr(img, 'shape') else \"未知\"\n",
    "    lines = [\n",
    "        *dataset_info,\n",
    "        f\"样本 {i}:\",\n",
    "        f\"图片来源: {info.get('annotation_source', '未知')}\",\n",
    "        f\"类别id: {label}\",\n",
    "        f\"类别名称: {info.get('category_name', '未知')}\",\n",
    "        f\"图片尺寸: {img_size} \\n缺陷尺寸: ({info['bbox'][2]:.1f}, {info['bbox'][3]:.1f})\"\n",
    "    ]\n",
    "    info_str = \"\\n\".join(lines)\n",
    "    return img, info_str\n",
    "\n",
    "def show_sample(idx):\n",
    "    img, info_str = get_sample_info(idx)\n",
    "    bbox = None\n",
    "    if hasattr(dataset, 'annotations') and 'bbox' in dataset.annotations[sample_indices[idx]]:\n",
    "        bbox = dataset.annotations[sample_indices[idx]]['bbox']\n",
    "    elif 'bbox' in dataset[sample_indices[idx]][2]:\n",
    "        bbox = dataset[sample_indices[idx]][2]['bbox']\n",
    "    if bbox is not None:\n",
    "        draw = ImageDraw.Draw(img)\n",
    "        x, y, w, h = bbox\n",
    "        draw.rectangle([x, y, x + w, y + h], outline='red', width=3)\n",
    "    return img, info_str\n",
    "\n",
    "# Jupyter 交互式控件\n",
    "idx_state = 0\n",
    "\n",
    "image_widget = widgets.Output(layout=widgets.Layout(width='80%', height='200px', border='1px solid #ccc'))\n",
    "info_widget = widgets.Textarea(\n",
    "    value='',\n",
    "    description='样本信息',\n",
    "    layout=widgets.Layout(width='20%', height='400px')\n",
    ")\n",
    "\n",
    "def update_widgets(idx):\n",
    "    img, info_str = show_sample(idx)\n",
    "    with image_widget:\n",
    "        clear_output(wait=True)\n",
    "        # 自动缩放图片以适应输出区域\n",
    "        max_width = 600  # 适合半页显示\n",
    "        max_height = 400\n",
    "        if hasattr(img, 'size'):\n",
    "            w, h = img.size\n",
    "            scale = min(max_width / w, max_height / h, 1.0)\n",
    "            if scale < 1.0:\n",
    "                img = img.resize((int(w * scale), int(h * scale)))\n",
    "        display(img)\n",
    "    info_widget.value = info_str\n",
    "\n",
    "def on_prev_clicked(b):\n",
    "    global idx_state\n",
    "    idx_state = (idx_state - 1) % len(sample_indices)\n",
    "    update_widgets(idx_state)\n",
    "\n",
    "def on_next_clicked(b):\n",
    "    global idx_state\n",
    "    idx_state = (idx_state + 1) % len(sample_indices)\n",
    "    update_widgets(idx_state)\n",
    "\n",
    "prev_btn = widgets.Button(description=\"Previous\")\n",
    "next_btn = widgets.Button(description=\"Next\")\n",
    "prev_btn.on_click(on_prev_clicked)\n",
    "next_btn.on_click(on_next_clicked)\n",
    "\n",
    "# 初始显示\n",
    "update_widgets(idx_state)\n",
    "\n",
    "display(widgets.HTML(\"<h3>COCO 分类数据集样本浏览</h3>\"))\n",
    "# 图片区域80%，信息区域20%，图片至少占半页\n",
    "display(widgets.HBox([info_widget, image_widget], layout=widgets.Layout(width='100%')))\n",
    "display(widgets.HBox([prev_btn, next_btn]))\n"
   ]
  },
  {
   "cell_type": "code",
   "execution_count": 5,
   "id": "2c0e594b",
   "metadata": {},
   "outputs": [],
   "source": [
    "areas = []\n",
    "for i in range(len(dataset)):\n",
    "    img, label, info = dataset[i]\n",
    "    x, y, w, h = info['bbox']\n",
    "    area = w * h\n",
    "    areas.append(area)    "
   ]
  },
  {
   "cell_type": "code",
   "execution_count": 6,
   "id": "9720019b-9f16-42de-80ab-acb15725e3af",
   "metadata": {},
   "outputs": [
    {
     "data": {
      "text/plain": [
       "(26.99964201450348, 5818496.772128105, 194801.8555056508)"
      ]
     },
     "execution_count": 6,
     "metadata": {},
     "output_type": "execute_result"
    }
   ],
   "source": [
    "import numpy as np\n",
    "areas = np.array(areas)\n",
    "areas.min(), areas.max(), areas.mean()"
   ]
  },
  {
   "cell_type": "code",
   "execution_count": 7,
   "id": "88fc3e70-b45e-40c4-8dc8-ade118939b35",
   "metadata": {},
   "outputs": [
    {
     "name": "stdout",
     "output_type": "stream",
     "text": [
      "Bin Edges (sqrt scale): [   5.19611798   29.26571722   53.33531646   77.4049157   101.47451495\n",
      "  125.54411419  149.61371343  173.68331267  197.75291192  221.82251116\n",
      "  245.8921104   269.96170964  294.03130889  318.10090813  342.17050737\n",
      "  366.24010662  390.30970586  414.3793051   438.44890434  462.51850359\n",
      "  486.58810283  510.65770207  534.72730131  558.79690056  582.8664998\n",
      "  606.93609904  631.00569828  655.07529753  679.14489677  703.21449601\n",
      "  727.28409526  751.3536945   775.42329374  799.49289298  823.56249223\n",
      "  847.63209147  871.70169071  895.77128995  919.8408892   943.91048844\n",
      "  967.98008768  992.04968693 1016.11928617 1040.18888541 1064.25848465\n",
      " 1088.3280839  1112.39768314 1136.46728238 1160.53688162 1184.60648087\n",
      " 1208.67608011 1232.74567935 1256.81527859 1280.88487784 1304.95447708\n",
      " 1329.02407632 1353.09367557 1377.16327481 1401.23287405 1425.30247329\n",
      " 1449.37207254 1473.44167178 1497.51127102 1521.58087026 1545.65046951\n",
      " 1569.72006875 1593.78966799 1617.85926723 1641.92886648 1665.99846572\n",
      " 1690.06806496 1714.13766421 1738.20726345 1762.27686269 1786.34646193\n",
      " 1810.41606118 1834.48566042 1858.55525966 1882.6248589  1906.69445815\n",
      " 1930.76405739 1954.83365663 1978.90325587 2002.97285512 2027.04245436\n",
      " 2051.1120536  2075.18165285 2099.25125209 2123.32085133 2147.39045057\n",
      " 2171.46004982 2195.52964906 2219.5992483  2243.66884754 2267.73844679\n",
      " 2291.80804603 2315.87764527 2339.94724451 2364.01684376 2388.086443\n",
      " 2412.15604224]\n",
      "Bin Centers (sqrt scale): [  17.2309176    41.30051684   65.37011608   89.43971532  113.50931457\n",
      "  137.57891381  161.64851305  185.7181123   209.78771154  233.85731078\n",
      "  257.92691002  281.99650927  306.06610851  330.13570775  354.20530699\n",
      "  378.27490624  402.34450548  426.41410472  450.48370396  474.55330321\n",
      "  498.62290245  522.69250169  546.76210094  570.83170018  594.90129942\n",
      "  618.97089866  643.04049791  667.11009715  691.17969639  715.24929563\n",
      "  739.31889488  763.38849412  787.45809336  811.5276926   835.59729185\n",
      "  859.66689109  883.73649033  907.80608958  931.87568882  955.94528806\n",
      "  980.0148873  1004.08448655 1028.15408579 1052.22368503 1076.29328427\n",
      " 1100.36288352 1124.43248276 1148.502082   1172.57168125 1196.64128049\n",
      " 1220.71087973 1244.78047897 1268.85007822 1292.91967746 1316.9892767\n",
      " 1341.05887594 1365.12847519 1389.19807443 1413.26767367 1437.33727291\n",
      " 1461.40687216 1485.4764714  1509.54607064 1533.61566989 1557.68526913\n",
      " 1581.75486837 1605.82446761 1629.89406686 1653.9636661  1678.03326534\n",
      " 1702.10286458 1726.17246383 1750.24206307 1774.31166231 1798.38126155\n",
      " 1822.4508608  1846.52046004 1870.59005928 1894.65965853 1918.72925777\n",
      " 1942.79885701 1966.86845625 1990.9380555  2015.00765474 2039.07725398\n",
      " 2063.14685322 2087.21645247 2111.28605171 2135.35565095 2159.42525019\n",
      " 2183.49484944 2207.56444868 2231.63404792 2255.70364717 2279.77324641\n",
      " 2303.84284565 2327.91244489 2351.98204414 2376.05164338 2400.12124262]\n",
      "Counts: [138 105  76  51  18  27  13  14  23  10  18  14  11  23  16  12   9  10\n",
      "  15   6  15  18   5   7   4   8   7  14  15   2  11   6   5   6   6   9\n",
      "   0   4   1   4   4   2   3   2   3   4   1   2   2   1   0   4   0   0\n",
      "   2   2   0   0   0   0   0   2   0   0   0   0   0   0   0   0   0   0\n",
      "   0   0   0   0   2   0   0   0   0   0   0   0   0   0   0   0   0   0\n",
      "   0   0   0   0   0   0   0   0   0   2]\n",
      "Relative Frequency: [0.17380353 0.13224181 0.09571788 0.06423174 0.02267003 0.03400504\n",
      " 0.0163728  0.01763224 0.02896725 0.01259446 0.02267003 0.01763224\n",
      " 0.0138539  0.02896725 0.02015113 0.01511335 0.01133501 0.01259446\n",
      " 0.01889169 0.00755668 0.01889169 0.02267003 0.00629723 0.00881612\n",
      " 0.00503778 0.01007557 0.00881612 0.01763224 0.01889169 0.00251889\n",
      " 0.0138539  0.00755668 0.00629723 0.00755668 0.00755668 0.01133501\n",
      " 0.         0.00503778 0.00125945 0.00503778 0.00503778 0.00251889\n",
      " 0.00377834 0.00251889 0.00377834 0.00503778 0.00125945 0.00251889\n",
      " 0.00251889 0.00125945 0.         0.00503778 0.         0.\n",
      " 0.00251889 0.00251889 0.         0.         0.         0.\n",
      " 0.         0.00251889 0.         0.         0.         0.\n",
      " 0.         0.         0.         0.         0.         0.\n",
      " 0.         0.         0.         0.         0.00251889 0.\n",
      " 0.         0.         0.         0.         0.         0.\n",
      " 0.         0.         0.         0.         0.         0.\n",
      " 0.         0.         0.         0.         0.         0.\n",
      " 0.         0.         0.         0.00251889]\n"
     ]
    }
   ],
   "source": [
    "valid = areas >= 0  \n",
    "if not np.all(valid):  \n",
    "    print(f\"Warning: {np.sum(~valid)} values < 0 were excluded.\")  \n",
    "areas_sqrt = np.sqrt(areas[valid])  \n",
    "\n",
    "# 2) 计算分桶边界（将 sqrt(areas) 等宽分为 10 桶）  \n",
    "num_bins = 100  \n",
    "min_v, max_v = areas_sqrt.min(), areas_sqrt.max()  \n",
    "# 若所有值相同，避免 bins 重合  \n",
    "if min_v == max_v:  \n",
    "    bins = np.linspace(min_v - 0.5, max_v + 0.5, num_bins + 1)  \n",
    "else:  \n",
    "    bins = np.linspace(min_v, max_v, num_bins + 1)  \n",
    "\n",
    "# 3) 直方图统计（每桶计数）  \n",
    "counts, edges = np.histogram(areas_sqrt, bins=bins)  \n",
    "\n",
    "# 4) 计算每个桶的中心与相对频率  \n",
    "centers = 0.5 * (edges[:-1] + edges[1:])  \n",
    "rel_freq = counts / counts.sum() if counts.sum() > 0 else np.zeros_like(counts, dtype=float)  \n",
    "\n",
    "# 5) 打印结果  \n",
    "print(\"Bin Edges (sqrt scale):\", edges)  \n",
    "print(\"Bin Centers (sqrt scale):\", centers)  \n",
    "print(\"Counts:\", counts)  \n",
    "print(\"Relative Frequency:\", rel_freq)  "
   ]
  },
  {
   "cell_type": "code",
   "execution_count": 8,
   "id": "9c5e6aae-24d4-4345-b1df-3fc8e7eba987",
   "metadata": {},
   "outputs": [
    {
     "data": {
      "image/png": "[encoded data removed]",
      "text/plain": [
       "<Figure size 600x400 with 1 Axes>"
      ]
     },
     "metadata": {},
     "output_type": "display_data"
    }
   ],
   "source": [
    "import pandas as pd  \n",
    "\n",
    "df = pd.DataFrame({  \n",
    "    \"bin_left\": edges[:-1],  \n",
    "    \"bin_right\": edges[1:],  \n",
    "    \"bin_center\": centers,  \n",
    "    \"count\": counts,  \n",
    "    \"relative_freq\": rel_freq  \n",
    "})  \n",
    "import matplotlib.pyplot as plt  \n",
    "\n",
    "plt.figure(figsize=(6,4))  \n",
    "# 使用条形图以自定义  \n",
    "plt.bar(centers, counts, width=np.diff(edges), align=\"center\", edgecolor=\"k\", alpha=0.7)  \n",
    "plt.xlabel(\"sqrt(areas)\")  \n",
    "plt.ylabel(\"count\")  \n",
    "plt.title(\"Distribution on sqrt(areas) with 10 bins\")  \n",
    "plt.show()"
   ]
  },
  {
   "cell_type": "code",
   "execution_count": null,
   "id": "02b72ec9-d146-4130-9a64-b6457c5a8210",
   "metadata": {},
   "outputs": [],
   "source": []
  }
 ],
 "metadata": {
  "kernelspec": {
   "display_name": "base",
   "language": "python",
   "name": "python3"
  },
  "language_info": {
   "codemirror_mode": {
    "name": "ipython",
    "version": 3
   },
   "file_extension": ".py",
   "mimetype": "text/x-python",
   "name": "python",
   "nbconvert_exporter": "python",
   "pygments_lexer": "ipython3",
   "version": "3.12.3"
  }
 },
 "nbformat": 4,
 "nbformat_minor": 5
}

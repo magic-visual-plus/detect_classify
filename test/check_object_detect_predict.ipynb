{
 "cells": [
  {
   "cell_type": "markdown",
   "id": "34a93d32",
   "metadata": {},
   "source": [
    "# 目标检测模型预测"
   ]
  },
  {
   "cell_type": "code",
   "execution_count": 1,
   "id": "67428644",
   "metadata": {},
   "outputs": [],
   "source": [
    "import sys\n",
    "import os\n",
    "import json\n",
    "import cv2\n",
    "from tqdm import tqdm\n",
    "import pandas as pd\n",
    "from hq_det.models.dino import hq_dino"
   ]
  },
  {
   "cell_type": "code",
   "execution_count": 2,
   "id": "cf501991",
   "metadata": {},
   "outputs": [],
   "source": [
    "model_path = \"/root/autodl-tmp/seat_model/seat_dino_baseline.pth\"\n",
    "input_path = \"/root/autodl-tmp/seat_dataset/chengdu_customer/\"\n",
    "output_path = \"out\""
   ]
  },
  {
   "cell_type": "code",
   "execution_count": null,
   "id": "54f633d2",
   "metadata": {},
   "outputs": [],
   "source": [
    "def load_coco_data(path):\n",
    "    with open(path, \"r\") as f:\n",
    "        coco_data = json.load(f)\n",
    "    return coco_data"
   ]
  },
  {
   "cell_type": "code",
   "execution_count": 5,
   "id": "06a69c60",
   "metadata": {},
   "outputs": [
    {
     "data": {
      "text/html": [
       "<div>\n",
       "<style scoped>\n",
       "    .dataframe tbody tr th:only-of-type {\n",
       "        vertical-align: middle;\n",
       "    }\n",
       "\n",
       "    .dataframe tbody tr th {\n",
       "        vertical-align: top;\n",
       "    }\n",
       "\n",
       "    .dataframe thead th {\n",
       "        text-align: right;\n",
       "    }\n",
       "</style>\n",
       "<table border=\"1\" class=\"dataframe\">\n",
       "  <thead>\n",
       "    <tr style=\"text-align: right;\">\n",
       "      <th></th>\n",
       "      <th>id</th>\n",
       "      <th>license</th>\n",
       "      <th>file_name</th>\n",
       "      <th>height</th>\n",
       "      <th>width</th>\n",
       "      <th>date_captured</th>\n",
       "      <th>mask_null</th>\n",
       "      <th>interested_area</th>\n",
       "      <th>not_interested_area</th>\n",
       "    </tr>\n",
       "  </thead>\n",
       "  <tbody>\n",
       "    <tr>\n",
       "      <th>0</th>\n",
       "      <td>0</td>\n",
       "      <td>1</td>\n",
       "      <td>1756717183496__p_0002_f9f1d25c48db4b5086d68fa9...</td>\n",
       "      <td>2048.0</td>\n",
       "      <td>2046.0</td>\n",
       "      <td>n/a</td>\n",
       "      <td>False</td>\n",
       "      <td>[]</td>\n",
       "      <td>[]</td>\n",
       "    </tr>\n",
       "    <tr>\n",
       "      <th>1</th>\n",
       "      <td>1</td>\n",
       "      <td>1</td>\n",
       "      <td>1756717182510__p_0032_34e0b790feab421d8063f798...</td>\n",
       "      <td>2048.0</td>\n",
       "      <td>2046.0</td>\n",
       "      <td>n/a</td>\n",
       "      <td>False</td>\n",
       "      <td>[]</td>\n",
       "      <td>[]</td>\n",
       "    </tr>\n",
       "    <tr>\n",
       "      <th>2</th>\n",
       "      <td>2</td>\n",
       "      <td>1</td>\n",
       "      <td>1756717183312__p_0019_0683254627f94ff08cfcf1aa...</td>\n",
       "      <td>2048.0</td>\n",
       "      <td>2046.0</td>\n",
       "      <td>n/a</td>\n",
       "      <td>False</td>\n",
       "      <td>[]</td>\n",
       "      <td>[]</td>\n",
       "    </tr>\n",
       "    <tr>\n",
       "      <th>3</th>\n",
       "      <td>3</td>\n",
       "      <td>1</td>\n",
       "      <td>1756717181427_2088f67d-f81d-448a-bdb5-e7c64377...</td>\n",
       "      <td>4100.0</td>\n",
       "      <td>4096.0</td>\n",
       "      <td>n/a</td>\n",
       "      <td>False</td>\n",
       "      <td>[]</td>\n",
       "      <td>[]</td>\n",
       "    </tr>\n",
       "    <tr>\n",
       "      <th>4</th>\n",
       "      <td>4</td>\n",
       "      <td>1</td>\n",
       "      <td>1756717181552__p_0005_8b3a587957524633adfc54cf...</td>\n",
       "      <td>2048.0</td>\n",
       "      <td>2046.0</td>\n",
       "      <td>n/a</td>\n",
       "      <td>False</td>\n",
       "      <td>[]</td>\n",
       "      <td>[]</td>\n",
       "    </tr>\n",
       "  </tbody>\n",
       "</table>\n",
       "</div>"
      ],
      "text/plain": [
       "   id  license                                          file_name  height  \\\n",
       "0   0        1  1756717183496__p_0002_f9f1d25c48db4b5086d68fa9...  2048.0   \n",
       "1   1        1  1756717182510__p_0032_34e0b790feab421d8063f798...  2048.0   \n",
       "2   2        1  1756717183312__p_0019_0683254627f94ff08cfcf1aa...  2048.0   \n",
       "3   3        1  1756717181427_2088f67d-f81d-448a-bdb5-e7c64377...  4100.0   \n",
       "4   4        1  1756717181552__p_0005_8b3a587957524633adfc54cf...  2048.0   \n",
       "\n",
       "    width date_captured  mask_null interested_area not_interested_area  \n",
       "0  2046.0           n/a      False              []                  []  \n",
       "1  2046.0           n/a      False              []                  []  \n",
       "2  2046.0           n/a      False              []                  []  \n",
       "3  4096.0           n/a      False              []                  []  \n",
       "4  2046.0           n/a      False              []                  []  "
      ]
     },
     "execution_count": 5,
     "metadata": {},
     "output_type": "execute_result"
    }
   ],
   "source": [
    "df = pd.DataFrame(images_info)\n",
    "df.head()"
   ]
  },
  {
   "cell_type": "code",
   "execution_count": 6,
   "id": "7053749e",
   "metadata": {},
   "outputs": [
    {
     "name": "stdout",
     "output_type": "stream",
     "text": [
      "627 627\n"
     ]
    }
   ],
   "source": [
    "os.makedirs(output_path, exist_ok=True)\n",
    "model = hq_dino.HQDINO(model=model_path)\n",
    "model.eval()\n",
    "model.to(\"cuda:0\")"
   ]
  },
  {
   "cell_type": "code",
   "execution_count": 8,
   "id": "5cd2271b",
   "metadata": {},
   "outputs": [
    {
     "name": "stdout",
     "output_type": "stream",
     "text": [
      "not find label: 烫伤\n",
      "not find label: 吊紧\n"
     ]
    }
   ],
   "source": [
    "def replace_coco_file(coco_file, id2names):\n",
    "    coco_data = load_coco_data(coco_file)\n",
    "    new_categories = [\n",
    "        {\n",
    "            \"id\": i,\n",
    "            \"name\": name,\n",
    "            \"supercategory\": \"none\"\n",
    "        }\n",
    "        for i, name in enumerate(id2names.values())\n",
    "    ]\n",
    "    ids, raw_ids = [], []\n",
    "    # 反转，从最大的开始更新，赋予新的id\n",
    "    for item in reversed(new_categories):\n",
    "        name = item['name']\n",
    "        id = item['id']\n",
    "        raw_id_list = [i for i, c in enumerate(coco_data['categories']) if c['name'] == name]\n",
    "        if not raw_id_list:\n",
    "            print(f\"not find label: {name}\")\n",
    "            continue \n",
    "        raw_id = raw_id_list[0]\n",
    "        for ann in coco_data['annotations']:\n",
    "            if ann['category_id'] == raw_id:\n",
    "                ann['category_id'] = id\n",
    "    for ann in coco_data['annotations']:\n",
    "        ann['sorce'] = 'gt'\n",
    "    coco_data['categories'] = new_categories\n",
    "\n",
    "    return coco_data\n",
    "\n",
    "new_coco_data = replace_coco_file(os.path.join(input_path, \"_annotations.coco.json\"), model.id2names)\n"
   ]
  },
  {
   "cell_type": "code",
   "execution_count": 9,
   "id": "592f958b",
   "metadata": {},
   "outputs": [],
   "source": [
    "from collections import Counter\n",
    "import json\n",
    "import os\n",
    "\n",
    "def check_coco_category_counts(coco):\n",
    "    \"\"\"\n",
    "    检查COCO文件中每个类别的标签数量。\n",
    "\n",
    "    参数:\n",
    "        coco: 可以是coco字典对象，或coco文件路径（.json）\n",
    "        show: 是否打印统计信息\n",
    "\n",
    "    返回:\n",
    "        result: dict，key为类别id，value为(类别名, 标签数量)\n",
    "    \"\"\"\n",
    "    # 如果传入的是文件路径，则读取json\n",
    "    if isinstance(coco, str) and os.path.isfile(coco):\n",
    "        with open(coco, \"r\", encoding=\"utf-8\") as f:\n",
    "            coco_data = json.load(f)\n",
    "    else:\n",
    "        coco_data = coco\n",
    "\n",
    "    category_counts = Counter([ann['category_id'] for ann in coco_data['annotations']])\n",
    "    result = {}\n",
    "    for cat in coco_data['categories']:\n",
    "        cat_id = cat['id']\n",
    "        cat_name = cat['name']\n",
    "        count = category_counts.get(cat_id, 0)\n",
    "        result[cat_id] = (cat_name, count)\n",
    "    return result"
   ]
  },
  {
   "cell_type": "code",
   "execution_count": 12,
   "id": "68c312ab",
   "metadata": {},
   "outputs": [
    {
     "name": "stderr",
     "output_type": "stream",
     "text": [
      "UserWarning: torch.meshgrid: in an upcoming release, it will be required to pass the indexing argument. (Triggered internally at ../aten/src/ATen/native/TensorShape.cpp:3587.)\n"
     ]
    }
   ],
   "source": [
    "import json\n",
    "\n",
    "coco_output = {\n",
    "    \"images\": [],\n",
    "    \"annotations\": [],\n",
    "    \"categories\": []\n",
    "}\n",
    "\n",
    "id2names = model.id2names if hasattr(model, \"id2names\") else {}\n",
    "for cls_id, cls_name in id2names.items():\n",
    "    coco_output[\"categories\"].append({\n",
    "        \"id\": int(cls_id),\n",
    "        \"name\": cls_name\n",
    "    })\n",
    "\n",
    "annotation_id = 1\n",
    "for image_info in images_info:\n",
    "    img_path = os.path.join(input_path, image_info['file_name'])\n",
    "    img = cv2.imread(img_path)\n",
    "    height, width = img.shape[:2]\n",
    "    assert height == image_info['height'] and width == image_info['width']\n",
    "    coco_output[\"images\"].append(image_info.copy())\n",
    "    result = model.predict([img], bgr=True, confidence=0.3, max_size=1536)[0]\n",
    "    bboxes = result.bboxes\n",
    "    scores = result.scores\n",
    "    labels = result.cls\n",
    "    for i in range(len(bboxes)):\n",
    "        bbox = bboxes[i]\n",
    "        x, y, x2, y2 = bbox\n",
    "        w = x2 - x\n",
    "        h = y2 - y\n",
    "        coco_output[\"annotations\"].append({\n",
    "            \"id\": annotation_id,\n",
    "            \"image_id\": image_info['id'],\n",
    "            \"category_id\": int(labels[i]),\n",
    "            \"bbox\": [float(x), float(y), float(w), float(h)],\n",
    "            \"score\": float(scores[i]),\n",
    "            \"area\": float(w * h),\n",
    "            \"iscrowd\": 0,\n",
    "            \"sorce\": \"predict\"\n",
    "        })\n",
    "        annotation_id += 1\n",
    "\n",
    "# 保存为json文件\n",
    "with open(os.path.join(output_path, \"predict_coco.json\"), \"w\", encoding=\"utf-8\") as f:\n",
    "    json.dump(coco_output, f, ensure_ascii=False, indent=2)"
   ]
  }
 ],
 "metadata": {
  "kernelspec": {
   "display_name": "base",
   "language": "python",
   "name": "python3"
  },
  "language_info": {
   "codemirror_mode": {
    "name": "ipython",
    "version": 3
   },
   "file_extension": ".py",
   "mimetype": "text/x-python",
   "name": "python",
   "nbconvert_exporter": "python",
   "pygments_lexer": "ipython3",
   "version": "3.12.3"
  }
 },
 "nbformat": 4,
 "nbformat_minor": 5
}
